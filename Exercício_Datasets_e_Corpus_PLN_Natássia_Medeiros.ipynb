{
  "nbformat": 4,
  "nbformat_minor": 0,
  "metadata": {
    "colab": {
      "provenance": [],
      "authorship_tag": "ABX9TyNRawewFwg2OTAfod9n6MZj",
      "include_colab_link": true
    },
    "kernelspec": {
      "name": "python3",
      "display_name": "Python 3"
    },
    "language_info": {
      "name": "python"
    }
  },
  "cells": [
    {
      "cell_type": "markdown",
      "metadata": {
        "id": "view-in-github",
        "colab_type": "text"
      },
      "source": [
        "<a href=\"https://colab.research.google.com/github/Natassiam/testes_software_js/blob/main/Exerc%C3%ADcio_Datasets_e_Corpus_PLN_Nat%C3%A1ssia_Medeiros.ipynb\" target=\"_parent\"><img src=\"https://colab.research.google.com/assets/colab-badge.svg\" alt=\"Open In Colab\"/></a>"
      ]
    },
    {
      "cell_type": "markdown",
      "source": [
        "Aluna: Natássia Rafaelle Medeiros Siqueira 24200953"
      ],
      "metadata": {
        "id": "6ymP6pAFA7SE"
      }
    },
    {
      "cell_type": "markdown",
      "source": [
        "Importação de bibliotecas\n"
      ],
      "metadata": {
        "id": "DB1Cx-xuRC1Z"
      }
    },
    {
      "cell_type": "code",
      "source": [
        "import nltk\n",
        "from nltk.corpus import stopwords, floresta\n",
        "from nltk.tokenize import word_tokenize\n",
        "from collections import Counter\n",
        "import string\n",
        "import matplotlib.pyplot as plt\n"
      ],
      "metadata": {
        "id": "IxHo_EBeRHq3"
      },
      "execution_count": null,
      "outputs": []
    },
    {
      "cell_type": "markdown",
      "source": [
        "#Exercício 1"
      ],
      "metadata": {
        "id": "B1rMU92wUvqe"
      }
    },
    {
      "cell_type": "code",
      "source": [
        "!pip install wikipedia"
      ],
      "metadata": {
        "colab": {
          "base_uri": "https://localhost:8080/"
        },
        "id": "XF_rJO_HVKjQ",
        "outputId": "6e8fd396-2788-4f02-b80d-721b8ae8dbe4"
      },
      "execution_count": null,
      "outputs": [
        {
          "output_type": "stream",
          "name": "stdout",
          "text": [
            "Collecting wikipedia\n",
            "  Downloading wikipedia-1.4.0.tar.gz (27 kB)\n",
            "  Preparing metadata (setup.py) ... \u001b[?25l\u001b[?25hdone\n",
            "Requirement already satisfied: beautifulsoup4 in /usr/local/lib/python3.11/dist-packages (from wikipedia) (4.13.4)\n",
            "Requirement already satisfied: requests<3.0.0,>=2.0.0 in /usr/local/lib/python3.11/dist-packages (from wikipedia) (2.32.3)\n",
            "Requirement already satisfied: charset-normalizer<4,>=2 in /usr/local/lib/python3.11/dist-packages (from requests<3.0.0,>=2.0.0->wikipedia) (3.4.2)\n",
            "Requirement already satisfied: idna<4,>=2.5 in /usr/local/lib/python3.11/dist-packages (from requests<3.0.0,>=2.0.0->wikipedia) (3.10)\n",
            "Requirement already satisfied: urllib3<3,>=1.21.1 in /usr/local/lib/python3.11/dist-packages (from requests<3.0.0,>=2.0.0->wikipedia) (2.4.0)\n",
            "Requirement already satisfied: certifi>=2017.4.17 in /usr/local/lib/python3.11/dist-packages (from requests<3.0.0,>=2.0.0->wikipedia) (2025.4.26)\n",
            "Requirement already satisfied: soupsieve>1.2 in /usr/local/lib/python3.11/dist-packages (from beautifulsoup4->wikipedia) (2.7)\n",
            "Requirement already satisfied: typing-extensions>=4.0.0 in /usr/local/lib/python3.11/dist-packages (from beautifulsoup4->wikipedia) (4.13.2)\n",
            "Building wheels for collected packages: wikipedia\n",
            "  Building wheel for wikipedia (setup.py) ... \u001b[?25l\u001b[?25hdone\n",
            "  Created wheel for wikipedia: filename=wikipedia-1.4.0-py3-none-any.whl size=11678 sha256=2ba2a7989210086c6d5409313325501b47063d40cce17b1add0b6c5568093956\n",
            "  Stored in directory: /root/.cache/pip/wheels/8f/ab/cb/45ccc40522d3a1c41e1d2ad53b8f33a62f394011ec38cd71c6\n",
            "Successfully built wikipedia\n",
            "Installing collected packages: wikipedia\n",
            "Successfully installed wikipedia-1.4.0\n"
          ]
        }
      ]
    },
    {
      "cell_type": "code",
      "execution_count": null,
      "metadata": {
        "colab": {
          "base_uri": "https://localhost:8080/"
        },
        "id": "GMDT5vkDUmd-",
        "outputId": "7d39297b-ef8d-4ac4-eb52-1ea32781dd3d"
      },
      "outputs": [
        {
          "output_type": "stream",
          "name": "stdout",
          "text": [
            "Top 10 tokens mais comuns:\n",
            "de: 389\n",
            "a: 224\n",
            "e: 197\n",
            "o: 167\n",
            "que: 153\n",
            "em: 114\n",
            "da: 111\n",
            "inteligência: 94\n",
            "ia: 88\n",
            "um: 79\n",
            "\n",
            "Número total de types (palavras únicas): 1956\n"
          ]
        }
      ],
      "source": [
        "import wikipedia\n",
        "import re\n",
        "from collections import Counter\n",
        "\n",
        "def obter_texto(titulo):\n",
        "    wikipedia.set_lang(\"pt\")\n",
        "    return wikipedia.page(titulo).content\n",
        "\n",
        "def preprocessar(texto):\n",
        "    texto = re.sub(r'[^\\w\\s]', '', texto)\n",
        "    texto = texto.lower()\n",
        "    return texto\n",
        "\n",
        "def tokenizar(texto):\n",
        "    return texto.split()\n",
        "\n",
        "def analisar_frequencias(tokens):\n",
        "    contagem = Counter(tokens)\n",
        "    types = set(tokens)\n",
        "    return contagem, len(types)\n",
        "\n",
        "def mostrar_resultados(contagem, total_types):\n",
        "    print(\"Top 10 tokens mais comuns:\")\n",
        "    for token, freq in contagem.most_common(10):\n",
        "        print(f\"{token}: {freq}\")\n",
        "    print(f\"\\nNúmero total de types (palavras únicas): {total_types}\")\n",
        "\n",
        "# ----- Execução -----\n",
        "\n",
        "if __name__ == \"__main__\":\n",
        "    titulo_pagina = \"Inteligência artificial\"\n",
        "    texto = obter_texto(titulo_pagina)\n",
        "    texto_limpo = preprocessar(texto)\n",
        "    tokens = tokenizar(texto_limpo)\n",
        "    contagem, total_types = analisar_frequencias(tokens)\n",
        "    mostrar_resultados(contagem, total_types)\n"
      ]
    },
    {
      "cell_type": "markdown",
      "source": [
        "#Exercício 2\n"
      ],
      "metadata": {
        "id": "AAa-w52oVOvf"
      }
    },
    {
      "cell_type": "code",
      "source": [
        "pip install nltk"
      ],
      "metadata": {
        "colab": {
          "base_uri": "https://localhost:8080/"
        },
        "id": "5UCEo6lkVRKr",
        "outputId": "d315455b-02cd-414c-a5fc-f7c8030902bd"
      },
      "execution_count": null,
      "outputs": [
        {
          "output_type": "stream",
          "name": "stdout",
          "text": [
            "Requirement already satisfied: nltk in /usr/local/lib/python3.11/dist-packages (3.9.1)\n",
            "Requirement already satisfied: click in /usr/local/lib/python3.11/dist-packages (from nltk) (8.2.0)\n",
            "Requirement already satisfied: joblib in /usr/local/lib/python3.11/dist-packages (from nltk) (1.5.0)\n",
            "Requirement already satisfied: regex>=2021.8.3 in /usr/local/lib/python3.11/dist-packages (from nltk) (2024.11.6)\n",
            "Requirement already satisfied: tqdm in /usr/local/lib/python3.11/dist-packages (from nltk) (4.67.1)\n"
          ]
        }
      ]
    },
    {
      "cell_type": "code",
      "source": [
        "nltk.download('punkt')\n",
        "nltk.download('machado')\n",
        "nltk.download('mac_morpho')\n",
        "\n",
        "def portuguese_pos_tag(tokens):\n",
        "    from nltk.corpus import mac_morpho\n",
        "    tagged_sents = mac_morpho.tagged_sents()\n",
        "    unigram_tagger = nltk.UnigramTagger(tagged_sents)\n",
        "    return unigram_tagger.tag(tokens)\n",
        "\n",
        "try:\n",
        "    from nltk.corpus import machado\n",
        "    print(\"Arquivos disponíveis no corpus Machado:\")\n",
        "    print(machado.CorpusView())\n",
        "\n",
        "\n",
        "    sents = machado.sents()\n",
        "    texto = \" \".join([\" \".join(sent) for sent in sents])\n",
        "    tokens = word_tokenize(texto, language='portuguese')\n",
        "    tags = portuguese_pos_tag(tokens)\n",
        "\n",
        "\n",
        "    frequencia_tags = Counter(tag for _, tag in tags)\n",
        "\n",
        "\n",
        "    print(\"\\nTags mais comuns em Machado de Assis:\")\n",
        "    for tag, count in frequencia_tags.most_common(15):\n",
        "        print(f\"{tag}: {count} ocorrências\")\n",
        "\n",
        "    plt.figure(figsize=(12, 6))\n",
        "    tags, counts = zip(*frequencia_tags.most_common(10))\n",
        "    plt.bar(tags, counts)\n",
        "    plt.title(\"POS tags mais frequentes em Machado de Assis\")\n",
        "    plt.xlabel(\"Tags\")\n",
        "    plt.ylabel(\"Frequência\")\n",
        "    plt.xticks(rotation=45)\n",
        "    plt.show()\n",
        "\n",
        "except Exception as e:\n",
        "    print(f\"Erro ao processar corpus Machado: {e}\")\n",
        "    print(\"Usando corpus MacMorpho como alternativa...\")\n",
        "\n",
        "    from nltk.corpus import mac_morpho\n",
        "    tagged_sents = mac_morpho.tagged_sents()\n",
        "    tags = [tag for sent in tagged_sents for (word, tag) in sent]\n",
        "    frequencia_tags = Counter(tags)\n",
        "\n",
        "    print(\"\\nTags mais comuns no corpus MacMorpho:\")\n",
        "    for tag, count in frequencia_tags.most_common(15):\n",
        "        print(f\"{tag}: {count} ocorrências\")\n",
        "\n",
        "    # Gráfico\n",
        "    plt.figure(figsize=(12, 6))\n",
        "    tags, counts = zip(*frequencia_tags.most_common(10))\n",
        "    plt.bar(tags, counts)\n",
        "    plt.title(\"POS tags mais frequentes no corpus MacMorpho\")\n",
        "    plt.xlabel(\"Tags\")\n",
        "    plt.ylabel(\"Frequência\")\n",
        "    plt.xticks(rotation=45)\n",
        "    plt.show()"
      ],
      "metadata": {
        "colab": {
          "base_uri": "https://localhost:8080/",
          "height": 892
        },
        "id": "p0U-7k5tH4OF",
        "outputId": "60d3a06f-e4d2-488b-e7fd-9f105045cd52"
      },
      "execution_count": null,
      "outputs": [
        {
          "output_type": "stream",
          "name": "stdout",
          "text": [
            "\n",
            "Tags mais comuns no corpus MacMorpho:\n",
            "N: 236462 ocorrências\n",
            "ART: 151891 ocorrências\n",
            "NPROP: 114318 ocorrências\n",
            "PREP: 104364 ocorrências\n",
            "V: 98056 ocorrências\n",
            "PREP|+: 78274 ocorrências\n",
            ",: 68494 ocorrências\n",
            "ADJ: 53372 ocorrências\n",
            "ADV: 30653 ocorrências\n",
            "KC: 28262 ocorrências\n",
            "PCP: 23092 ocorrências\n",
            "\": 21069 ocorrências\n",
            "PROADJ: 20919 ocorrências\n",
            "NUM: 18110 ocorrências\n",
            "VAUX: 17832 ocorrências\n"
          ]
        },
        {
          "output_type": "display_data",
          "data": {
            "text/plain": [
              "<Figure size 1200x600 with 1 Axes>"
            ],
            "image/png": "[encoded data removed]"
          },
          "metadata": {}
        }
      ]
    },
    {
      "cell_type": "markdown",
      "source": [
        "# Exercício 3"
      ],
      "metadata": {
        "id": "y21V3SGwPLpk"
      }
    },
    {
      "cell_type": "code",
      "source": [
        "nltk.download('punkt')\n",
        "nltk.download('stopwords')\n",
        "nltk.download('floresta')\n",
        "nltk.download('punkt_tab')\n",
        "\n",
        "def preprocessar_texto(texto):\n",
        "    \"\"\"Pré-processa o texto: tokeniza, remove pontuação e stopwords, converte para minúsculas\"\"\"\n",
        "\n",
        "    try:\n",
        "        tokens = word_tokenize(texto, language='portuguese')\n",
        "    except:\n",
        "\n",
        "        tokens = word_tokenize(texto)\n",
        "\n",
        "\n",
        "    tokens = [token.lower() for token in tokens if token not in string.punctuation]\n",
        "\n",
        "    stop_words = set(stopwords.words('portuguese'))\n",
        "    tokens = [token for token in tokens if token not in stop_words and token.isalpha()]  # Mantém apenas palavras\n",
        "\n",
        "    return tokens\n",
        "\n",
        "def plotar_distribuicao_frequencia(frequencias):\n",
        "    \"\"\"Plota a distribuição de frequência dos tokens\"\"\"\n",
        "    ranks = range(1, len(frequencias) + 1)\n",
        "    valores = list(frequencias.values())\n",
        "\n",
        "    plt.figure(figsize=(10, 6))\n",
        "    plt.plot(ranks, valores, marker='o', linestyle='-', color='b')\n",
        "    plt.xscale('log')\n",
        "    plt.yscale('log')\n",
        "    plt.title('Distribuição de Frequência dos Tokens (Lei de Zipf) - Corpus Floresta')\n",
        "    plt.xlabel('Rank do Token (log)')\n",
        "    plt.ylabel('Frequência (log)')\n",
        "    plt.grid(True)\n",
        "    plt.show()\n",
        "\n",
        "\n",
        "sentencas = floresta.sents()\n",
        "texto_floresta = ' '.join([' '.join([word.split('_')[0] for word in sentenca]) for sentenca in sentencas])\n",
        "\n",
        "\n",
        "tokens = preprocessar_texto(texto_floresta)\n",
        "frequencias = Counter(tokens)\n",
        "\n",
        "frequencias_ordenadas = dict(sorted(frequencias.items(), key=lambda item: item[1], reverse=True))\n",
        "\n",
        "\n",
        "print(f\"Total de tokens únicos: {len(frequencias_ordenadas)}\")\n",
        "print(\"\\nTop 10 tokens mais frequentes no corpus Floresta:\")\n",
        "for token, freq in list(frequencias_ordenadas.items())[:10]:\n",
        "    print(f\"{token}: {freq} ocorrências\")\n",
        "\n",
        "plotar_distribuicao_frequencia(frequencias_ordenadas)"
      ],
      "metadata": {
        "colab": {
          "base_uri": "https://localhost:8080/",
          "height": 934
        },
        "id": "IO6cFQZjh4fj",
        "outputId": "ce8d724d-a47f-4f1a-dd56-84740b546f66"
      },
      "execution_count": null,
      "outputs": [
        {
          "output_type": "stream",
          "name": "stderr",
          "text": [
            "[nltk_data] Downloading package punkt to /root/nltk_data...\n",
            "[nltk_data]   Package punkt is already up-to-date!\n",
            "[nltk_data] Downloading package stopwords to /root/nltk_data...\n",
            "[nltk_data]   Package stopwords is already up-to-date!\n",
            "[nltk_data] Downloading package floresta to /root/nltk_data...\n",
            "[nltk_data]   Package floresta is already up-to-date!\n",
            "[nltk_data] Downloading package punkt_tab to /root/nltk_data...\n",
            "[nltk_data]   Package punkt_tab is already up-to-date!\n"
          ]
        },
        {
          "output_type": "stream",
          "name": "stdout",
          "text": [
            "Total de tokens únicos: 21736\n",
            "\n",
            "Top 10 tokens mais frequentes no corpus Floresta:\n",
            "sobre: 349 ocorrências\n",
            "ainda: 302 ocorrências\n",
            "anos: 301 ocorrências\n",
            "ontem: 296 ocorrências\n",
            "segundo: 256 ocorrências\n",
            "ter: 249 ocorrências\n",
            "dois: 231 ocorrências\n",
            "presidente: 218 ocorrências\n",
            "disse: 213 ocorrências\n",
            "governo: 206 ocorrências\n"
          ]
        },
        {
          "output_type": "display_data",
          "data": {
            "text/plain": [
              "<Figure size 1000x600 with 1 Axes>"
            ],
            "image/png": "[encoded data removed]"
          },
          "metadata": {}
        }
      ]
    },
    {
      "cell_type": "markdown",
      "source": [],
      "metadata": {
        "id": "Lcy1WBS_0nKi"
      }
    },
    {
      "cell_type": "markdown",
      "source": [
        "O gráfico segue a Lei de Zipf, apresentando:\n",
        "\n",
        "Relação inversa entre rank e frequência (quanto maior o rank, menor a frequência).\n",
        "\n",
        "Linearidade em escala log-log, especialmente para os ranks mais altos.\n",
        "\n",
        "Poucos outliers, explicáveis pelas características do corpus (textos jornalísticos anotados)."
      ],
      "metadata": {
        "id": "0q1C4zETaUvd"
      }
    }
  ]
}